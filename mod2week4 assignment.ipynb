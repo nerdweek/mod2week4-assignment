{
  "cells": [
    {
      "cell_type": "markdown",
      "metadata": {},
      "source": [
        "<center>\n",
        "    <img src=\"https://cf-courses-data.s3.us.cloud-object-storage.appdomain.cloud/IBMDeveloperSkillsNetwork-DS0105EN-SkillsNetwork/labs/Module2/images/SN_web_lightmode.png\" width=\"300\" alt=\"cognitiveclass.ai logo\">\n",
        "</center>\n"
      ]
    },
    {
      "cell_type": "markdown",
      "metadata": {},
      "source": [
        "#### Add your code below following the instructions given in the course\n"
      ]
    },
    {
      "cell_type": "markdown",
      "metadata": {},
      "source": [
        "# My Jupyter Notebook on IBM Watson Studio"
      ]
    },
    {
      "cell_type": "markdown",
      "metadata": {},
      "source": [
        "**Pieter**    \n",
        "Data Scientist"
      ]
    },
    {
      "cell_type": "markdown",
      "metadata": {},
      "source": [
        "*I am interested in data science because of the possibilities it provides to gain deep insights in very complex problems*"
      ]
    },
    {
      "cell_type": "markdown",
      "metadata": {},
      "source": [
        "### The code in the following cell calculates 5 to the power 5"
      ]
    },
    {
      "cell_type": "code",
      "execution_count": 1,
      "metadata": {
        "trusted": true
      },
      "outputs": [
        {
          "name": "stdout",
          "output_type": "stream",
          "text": [
            "3125\n"
          ]
        }
      ],
      "source": [
        "print(pow(5,5))"
      ]
    },
    {
      "attachments": {},
      "cell_type": "markdown",
      "metadata": {},
      "source": [
        "horizontal rule\n",
        "\n",
        "---\n",
        "\n",
        "* bulleted list\n",
        "* bulleted list\n",
        "\n",
        "1. numbered list\n",
        "2. numbered list\n",
        "\n",
        "type | qty.\n",
        "-----|----:\n",
        "item A | 44\n",
        "item B | 1\n",
        "\n",
        "[link to google](www.google.com)\n",
        "\n",
        "``` py\n",
        "print(\"Hello world\")\n",
        "```\n",
        "\n",
        "> blocked quotes\n",
        "\n",
        "~~strikethrough~~"
      ]
    }
  ],
  "metadata": {
    "kernelspec": {
      "display_name": "Pyolite",
      "language": "python",
      "name": "python"
    },
    "language_info": {
      "codemirror_mode": {
        "name": "python",
        "version": 3
      },
      "file_extension": ".py",
      "mimetype": "text/x-python",
      "name": "python",
      "nbconvert_exporter": "python",
      "pygments_lexer": "ipython3",
      "version": "3.8"
    }
  },
  "nbformat": 4,
  "nbformat_minor": 4
}
